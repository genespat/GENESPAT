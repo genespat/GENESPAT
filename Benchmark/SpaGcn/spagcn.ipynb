{
 "cells": [
  {
   "cell_type": "code",
   "execution_count": 1,
   "metadata": {},
   "outputs": [],
   "source": [
    "import os\n",
    "from pathlib import Path\n",
    "import pandas as pd\n",
    "import numpy as np\n",
    "import scanpy as sc\n",
    "import SpaGCN as spg\n",
    "import torch\n",
    "from sklearn import metrics\n",
    "import cv2\n",
    "import matplotlib.pyplot as plt\n",
    "import random    "
   ]
  },
  {
   "cell_type": "code",
   "execution_count": 4,
   "metadata": {},
   "outputs": [
    {
     "name": "stderr",
     "output_type": "stream",
     "text": [
      "/Users/abdullahalsakib/anaconda3/lib/python3.10/site-packages/anndata/_core/anndata.py:1899: UserWarning: Variable names are not unique. To make them unique, call `.var_names_make_unique`.\n",
      "  utils.warn_names_duplicates(\"var\")\n",
      "/Users/abdullahalsakib/anaconda3/lib/python3.10/site-packages/anndata/_core/anndata.py:1899: UserWarning: Variable names are not unique. To make them unique, call `.var_names_make_unique`.\n",
      "  utils.warn_names_duplicates(\"var\")\n"
     ]
    },
    {
     "name": "stdout",
     "output_type": "stream",
     "text": [
      "Calculateing adj matrix using histology image...\n",
      "Var of c0,c1,c2 =  33.30687202862215 174.55510595352243 46.84205750749746\n",
      "Var of x,y,z =  5606737.526317932 4468793.817921193 5606737.526317932\n",
      "l is  1 Percentage of total expression contributed by neighborhoods: 0.0\n",
      "l is  10 Percentage of total expression contributed by neighborhoods: 0.0\n",
      "l is  100 Percentage of total expression contributed by neighborhoods: 0.23831093311309814\n",
      "l is  500 Percentage of total expression contributed by neighborhoods: 28.014718548210983\n",
      "l is  1000 Percentage of total expression contributed by neighborhoods: 153.882049263866\n",
      "L= 100 P= 0.23831\n",
      "L= 101 P= 0.24709\n",
      "L= 102 P= 0.25606\n",
      "L= 103 P= 0.2652\n",
      "L= 104 P= 0.27454\n",
      "L= 105 P= 0.28405\n",
      "L= 106 P= 0.29376\n",
      "L= 107 P= 0.30365\n",
      "L= 108 P= 0.31374\n",
      "L= 109 P= 0.32402\n",
      "L= 110 P= 0.33449\n",
      "L= 111 P= 0.34515\n",
      "L= 112 P= 0.35601\n",
      "L= 113 P= 0.36707\n",
      "L= 114 P= 0.37832\n",
      "L= 115 P= 0.38978\n",
      "L= 116 P= 0.40144\n",
      "L= 117 P= 0.41329\n",
      "L= 118 P= 0.42536\n",
      "L= 119 P= 0.43763\n",
      "L= 120 P= 0.4501\n",
      "L= 121 P= 0.46278\n",
      "L= 122 P= 0.47567\n",
      "L= 123 P= 0.48877\n",
      "L= 124 P= 0.50208\n",
      "Start at res =  0.7 step =  0.1\n",
      "Initializing cluster centers with louvain, resolution =  0.7\n",
      "Epoch  0\n",
      "Epoch  10\n",
      "Res =  0.7 Num of clusters =  7\n",
      "recommended res =  0.7\n",
      "Initializing cluster centers with louvain, resolution =  0.7\n",
      "Epoch  0\n",
      "Epoch  10\n",
      "Epoch  20\n",
      "Epoch  30\n",
      "Epoch  40\n",
      "Epoch  50\n",
      "Epoch  60\n",
      "Epoch  70\n",
      "Epoch  80\n",
      "Epoch  90\n",
      "Epoch  100\n",
      "Epoch  110\n",
      "Epoch  120\n",
      "Epoch  130\n",
      "Epoch  140\n",
      "Epoch  150\n",
      "Epoch  160\n",
      "Epoch  170\n",
      "Epoch  180\n",
      "Epoch  190\n",
      "Calculateing adj matrix using xy only...\n"
     ]
    },
    {
     "data": {
      "text/plain": [
       "AnnData object with n_obs × n_vars = 3639 × 19130\n",
       "    obs: 'x1', 'x2', 'x3', 'x4', 'x5', 'x_array', 'y_array', 'x_pixel', 'y_pixel', 'n_counts', 'pred', 'refined_pred'\n",
       "    var: 'gene_ids', 'feature_types', 'genome', 'genename'\n",
       "    uns: 'log1p', 'pred_colors', 'refined_pred_colors'"
      ]
     },
     "execution_count": 4,
     "metadata": {},
     "output_type": "execute_result"
    }
   ],
   "source": [
    "def process_sample(sample_name, base_path, output_path):\n",
    "    base_path = Path(base_path)\n",
    "    output_path = Path(output_path)\n",
    "    dir_input = base_path / sample_name\n",
    "    dir_output = output_path / sample_name\n",
    "    dir_output.mkdir(parents=True, exist_ok=True)\n",
    "    n_clusters = 5 if sample_name in ['151669', '151670', '151671', '151672'] else 7\n",
    "    adata = sc.read_10x_h5(dir_input / 'filtered_feature_bc_matrix.h5')\n",
    "    adata.var_names_make_unique()\n",
    "\n",
    "    spatial = pd.read_csv(dir_input / 'spatial' / 'tissue_positions_list.csv', sep=\",\", header=None, na_filter=False, index_col=0)\n",
    "\n",
    "    adata.obs['x1'] = spatial[1]\n",
    "    adata.obs['x2'] = spatial[2]\n",
    "    adata.obs['x3'] = spatial[3]\n",
    "    adata.obs['x4'] = spatial[4]\n",
    "    adata.obs['x5'] = spatial[5]\n",
    "\n",
    "    adata = adata[adata.obs['x1'] == 1]\n",
    "    adata.var_names = [i.upper() for i in list(adata.var_names)]\n",
    "    adata.var['genename'] = adata.var.index.astype('str')\n",
    "\n",
    "    img = cv2.imread(\"/Users/abdullahalsakib/Downloads/fydp/finalone/autoencoder/histology.tif\")\n",
    "\n",
    "    adata.obs['x_array'] = adata.obs['x2']\n",
    "    adata.obs['y_array'] = adata.obs['x3']\n",
    "    adata.obs['x_pixel'] = adata.obs['x4']\n",
    "    adata.obs['y_pixel'] = adata.obs['x5']\n",
    "    x_pixel = adata.obs['x_pixel'].tolist()\n",
    "    y_pixel = adata.obs['y_pixel'].tolist()\n",
    "    img_new = img.copy()\n",
    "    for i in range(len(x_pixel)):\n",
    "        x, y = x_pixel[i], y_pixel[i]\n",
    "        img_new[int(x - 20):int(x + 20), int(y - 20):int(y + 20), :] = 0\n",
    "\n",
    "    cv2.imwrite(f'{dir_output}/sample_map.jpg', img_new)\n",
    "    b = 49\n",
    "    a = 1\n",
    "    adj = spg.calculate_adj_matrix(x=x_pixel, y=y_pixel, x_pixel=x_pixel, y_pixel=y_pixel, image=img, beta=b, alpha=a, histology=True)\n",
    "    np.savetxt(f'{dir_output}/adj.csv', adj, delimiter=',')\n",
    "    spg.prefilter_genes(adata, min_cells=3)\n",
    "    spg.prefilter_specialgenes(adata)\n",
    "    sc.pp.normalize_per_cell(adata)\n",
    "    sc.pp.log1p(adata)\n",
    "    p = 0.5\n",
    "    spg.test_l(adj, [1, 10, 100, 500, 1000])\n",
    "    l = spg.find_l(p=p, adj=adj, start=100, end=500, sep=1, tol=0.01)\n",
    "    n_clusters = n_clusters\n",
    "    r_seed = t_seed = n_seed = 100\n",
    "    res = spg.search_res(adata, adj, l, n_clusters, start=0.7, step=0.1, tol=5e-3, lr=0.05, max_epochs=20, r_seed=r_seed,\n",
    "                         t_seed=t_seed, n_seed=n_seed)\n",
    "    clf = spg.SpaGCN()\n",
    "    clf.set_l(l)\n",
    "    random.seed(r_seed)\n",
    "    torch.manual_seed(t_seed)\n",
    "    np.random.seed(n_seed)\n",
    "    clf.train(adata, adj, init_spa=True, init=\"louvain\", res=res, tol=5e-3, lr=0.05, max_epochs=200)\n",
    "    y_pred, prob = clf.predict()\n",
    "    categories = list(map(str, np.unique(y_pred)))\n",
    "    adata.obs['pred'] = pd.Categorical(y_pred.astype(str), categories=categories)\n",
    "    adj_2d = spg.calculate_adj_matrix(x=adata.obs['x_array'], y=adata.obs['y_array'], histology=False)\n",
    "    refined_pred = spg.refine(sample_id=adata.obs.index.tolist(), pred=adata.obs['pred'].tolist(), dis=adj_2d, shape=\"hexagon\")\n",
    "    refined_pred_series = pd.Series(refined_pred)\n",
    "    adata.obs['refined_pred'] = pd.Categorical(refined_pred_series.astype(str), categories=categories)\n",
    "    plot_color = [\"#F56867\", \"#FEB915\", \"#C798EE\", \"#59BE86\", \"#7495D3\", \"#D1D1D1\", \"#6D1A9C\", \"#15821E\", \"#3A84E6\",\n",
    "                  \"#997273\", \"#787878\", \"#DB4C6C\", \"#9E7A7A\", \"#554236\", \"#AF5F3C\", \"#93796C\", \"#F9BD3F\", \"#DAB370\",\n",
    "                  \"#877F6C\", \"#268785\"]\n",
    "    domains = \"pred\"\n",
    "    num_celltype = len(adata.obs[domains].unique())\n",
    "    adata.uns[domains + \"_colors\"] = list(plot_color[:num_celltype])\n",
    "    ax = sc.pl.scatter(adata, alpha=1, x=\"y_pixel\", y=\"x_pixel\", color=domains, title=domains, color_map=plot_color,\n",
    "                       show=False, size=100000 / adata.shape[0])\n",
    "    ax.set_aspect('equal', 'box')\n",
    "    ax.axes.invert_yaxis()\n",
    "    plt.savefig(f\"{dir_output}/pred.png\", dpi=300)\n",
    "    plt.close()\n",
    "    domains = \"refined_pred\"\n",
    "    num_celltype = len(adata.obs[domains].unique())\n",
    "    adata.uns[domains + \"_colors\"] = list(plot_color[:num_celltype])\n",
    "    ax = sc.pl.scatter(adata, alpha=1, x=\"y_pixel\", y=\"x_pixel\", color=domains, title=domains, color_map=plot_color,\n",
    "                       show=False, size=100000 / adata.shape[0])\n",
    "    ax.set_aspect('equal', 'box')\n",
    "    ax.axes.invert_yaxis()\n",
    "    plt.savefig(f\"{dir_output}/refined_pred.png\", dpi=300)\n",
    "    plt.close()\n",
    "\n",
    "    return adata\n",
    "\n",
    "sample_list = ['151673']  \n",
    "ARI_list = []\n",
    "\n",
    "for sample_name in sample_list:\n",
    "    adata = process_sample(sample_name, '/Users/abdullahalsakib/Downloads/fydp/finalone/others/SpaGcn',\n",
    "                         '/Users/abdullahalsakib/Downloads/fydp/finalone/others/SpaGcn/result')\n",
    "\n",
    "adata\n"
   ]
  },
  {
   "cell_type": "code",
   "execution_count": 5,
   "metadata": {},
   "outputs": [],
   "source": [
    "from sklearn import metrics\n",
    "df_meta = pd.read_csv('/Users/abdullahalsakib/Downloads/fydp/finalone/others/SpaGcn/151673/metadata.tsv', sep='\\t')\n",
    "df_meta_layer = df_meta['layer_guess']\n",
    "adata.obs['Ground_Truth'] = df_meta_layer.values\n",
    "adata = adata[~pd.isnull(adata.obs['Ground_Truth'])]    "
   ]
  },
  {
   "cell_type": "code",
   "execution_count": 6,
   "metadata": {},
   "outputs": [
    {
     "name": "stdout",
     "output_type": "stream",
     "text": [
      "ARI: 0.455702591256653\n"
     ]
    },
    {
     "name": "stderr",
     "output_type": "stream",
     "text": [
      "/var/folders/zt/c6n2w1f53ngbmqr21hfs1yhw0000gn/T/ipykernel_86343/1526278021.py:2: ImplicitModificationWarning: Trying to modify attribute `._uns` of view, initializing view as actual.\n",
      "  adata.uns['ARI'] = ARI\n"
     ]
    }
   ],
   "source": [
    "ARI = metrics.adjusted_rand_score(adata.obs['refined_pred'], adata.obs['Ground_Truth'])\n",
    "adata.uns['ARI'] = ARI\n",
    "print('ARI:', ARI)"
   ]
  },
  {
   "cell_type": "code",
   "execution_count": 8,
   "metadata": {},
   "outputs": [
    {
     "data": {
      "text/plain": [
       "AnnData object with n_obs × n_vars = 3611 × 19130\n",
       "    obs: 'x1', 'x2', 'x3', 'x4', 'x5', 'x_array', 'y_array', 'x_pixel', 'y_pixel', 'n_counts', 'pred', 'refined_pred', 'Ground_Truth'\n",
       "    var: 'gene_ids', 'feature_types', 'genome', 'genename'\n",
       "    uns: 'log1p', 'pred_colors', 'refined_pred_colors', 'ARI'"
      ]
     },
     "execution_count": 8,
     "metadata": {},
     "output_type": "execute_result"
    }
   ],
   "source": [
    "adata"
   ]
  }
 ],
 "metadata": {
  "kernelspec": {
   "display_name": "base",
   "language": "python",
   "name": "python3"
  },
  "language_info": {
   "codemirror_mode": {
    "name": "ipython",
    "version": 3
   },
   "file_extension": ".py",
   "mimetype": "text/x-python",
   "name": "python",
   "nbconvert_exporter": "python",
   "pygments_lexer": "ipython3",
   "version": "3.10.9"
  },
  "orig_nbformat": 4
 },
 "nbformat": 4,
 "nbformat_minor": 2
}
